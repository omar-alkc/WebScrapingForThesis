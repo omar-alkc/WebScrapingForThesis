{
 "cells": [
  {
   "cell_type": "markdown",
   "source": [
    "This code I used as a part of my thesis research data collection , where i needed to extract weather station coordinates...\n",
    "The data needed for research purposes only... it's publicly available..."
   ],
   "metadata": {
    "collapsed": false
   }
  },
  {
   "cell_type": "markdown",
   "source": [
    "Creating a list of cites to loop on later..."
   ],
   "metadata": {
    "collapsed": false
   }
  },
  {
   "cell_type": "code",
   "execution_count": 1,
   "outputs": [],
   "source": [
    "cities = ['Adana',\n",
    " 'Adıyaman',\n",
    " 'Afyonkarahisar',\n",
    " 'Ağrı',\n",
    " 'Aksaray',\n",
    " 'Amasya',\n",
    " 'Ankara',\n",
    " 'Antalya',\n",
    " 'Ardahan',\n",
    " 'Artvin',\n",
    " 'Aydın',\n",
    " 'Balıkesir',\n",
    " 'Bartın',\n",
    " 'Batman',\n",
    " 'Bayburt',\n",
    " 'Bilecik',\n",
    " 'Bingöl',\n",
    " 'Bitlis',\n",
    " 'Bolu',\n",
    " 'Burdur',\n",
    " 'Bursa',\n",
    " 'Çanakkale',\n",
    " 'Çankırı',\n",
    " 'Çorum',\n",
    " 'Denizli',\n",
    " 'Diyarbakır',\n",
    " 'Düzce',\n",
    " 'Edirne',\n",
    " 'Elazığ',\n",
    " 'Erzincan',\n",
    " 'Erzurum',\n",
    " 'Eskişehir',\n",
    " 'Gaziantep',\n",
    " 'Giresun',\n",
    " 'Gümüşhane',\n",
    " 'Hakkari',\n",
    " 'Hatay',\n",
    " 'Iğdır',\n",
    " 'Isparta',\n",
    " 'İstanbul',\n",
    " 'İzmir',\n",
    " 'Kahramanmaraş',\n",
    " 'Karabük',\n",
    " 'Karaman',\n",
    " 'Kars',\n",
    " 'Kastamonu',\n",
    " 'Kayseri',\n",
    " 'Kırıkkale',\n",
    " 'Kırklareli',\n",
    " 'Kırşehir',\n",
    " 'Kilis',\n",
    " 'Kocaeli',\n",
    " 'Konya',\n",
    " 'Kütahya',\n",
    " 'Malatya',\n",
    " 'Manisa',\n",
    " 'Mardin',\n",
    " 'Mersin',\n",
    " 'Muğla',\n",
    " 'Muş',\n",
    " 'Nevşehir',\n",
    " 'Niğde',\n",
    " 'Ordu',\n",
    " 'Osmaniye',\n",
    " 'Rize',\n",
    " 'Sakarya',\n",
    " 'Samsun',\n",
    " 'Siirt',\n",
    " 'Sinop',\n",
    " 'Sivas',\n",
    " 'Şanlıurfa',\n",
    " 'Şırnak',\n",
    " 'Tekirdağ',\n",
    " 'Tokat',\n",
    " 'Trabzon',\n",
    " 'Tunceli',\n",
    " 'Uşak',\n",
    " 'Van',\n",
    " 'Yalova',\n",
    " 'Yozgat',\n",
    " 'Zonguldak']"
   ],
   "metadata": {
    "collapsed": false
   }
  },
  {
   "cell_type": "markdown",
   "source": [
    "I tried to use beautifulsoap first but i had an error on accessing the site when sending a get request, due to the site SSL protocol is outdated...So i used selenium instead..."
   ],
   "metadata": {
    "collapsed": false
   }
  },
  {
   "cell_type": "code",
   "execution_count": null,
   "outputs": [],
   "source": [
    "from selenium import webdriver\n",
    "from selenium.webdriver.common.by import By\n",
    "import time\n",
    "import warnings\n",
    "import pandas as pd\n",
    "\n",
    "warnings.filterwarnings('ignore')\n",
    "driver_path = \"C:\\\\Users\\\\user\\\\Downloads\\\\chromedriver_win32\\\\chromedriver.exe\"\n",
    "browser = webdriver.Chrome(executable_path=driver_path)\n",
    "header = ['No','Station','station_no','City','Sensors','Harita']\n",
    "\n",
    "cords1, cords2, city_,listt = [], [], [],[]\n",
    "for city in cities:\n",
    "    url = \"https://mgm.gov.tr/kurumsal/istasyonlarimiz.aspx?il=%s\"%city\n",
    "    browser.get(url)\n",
    "    time.sleep(2)\n",
    "    html = browser.page_source\n",
    "\n",
    "    links = html.split('https://www.google.com/maps/search/?api=1&amp;query=')\n",
    "\n",
    "    for i in range(1,len(links)):\n",
    "        city_.append(city)\n",
    "        cords1.append(float(links[i].split('\"')[0].split(',')[0]))\n",
    "        cords2.append(float(links[i].split('\"')[0].split(',')[1]))\n",
    "\n",
    "    No = browser.find_elements(By.XPATH,'//*[@id=\"ayrinti\"]/table/tbody/tr/td[1]')\n",
    "    station = browser.find_elements(By.XPATH,'//*[@id=\"ayrinti\"]/table/tbody/tr/td[2]')\n",
    "    ist_no = browser.find_elements(By.XPATH,'//*[@id=\"ayrinti\"]/table/tbody/tr/td[3]')\n",
    "    ICAO = browser.find_elements(By.XPATH,'//*[@id=\"ayrinti\"]/table/tbody/tr/td[4]')\n",
    "    ilcesi = browser.find_elements(By.XPATH,'//*[@id=\"ayrinti\"]/table/tbody/tr/td[5]')\n",
    "    sensor = browser.find_elements(By.XPATH,'//*[@id=\"ayrinti\"]/table/tbody/tr/td[6]')\n",
    "    harita = browser.find_elements(By.XPATH,'//*[@id=\"ayrinti\"]/table/tbody/tr/td[7]/a')\n",
    "\n",
    "    for i in range(len(No)):\n",
    "\n",
    "        temp = {header[0]:No[i].text,\n",
    "        header[1]:station[i].text,\n",
    "        header[2]:ist_no[i].text,\n",
    "        header[3]:ICAO[i].text,\n",
    "        header[4]:ilcesi[i].text,\n",
    "        header[5]:sensor[i].text}\n",
    "        listt.append(temp)\n",
    "df= pd.DataFrame(listt)\n",
    "df['Long'] = cords1\n",
    "df['Lat'] = cords2\n",
    "df"
   ],
   "metadata": {
    "collapsed": false,
    "pycharm": {
     "is_executing": true
    }
   }
  },
  {
   "cell_type": "code",
   "execution_count": null,
   "outputs": [],
   "source": [
    "df.to_csv('stations_with_coords.csv')"
   ],
   "metadata": {
    "collapsed": false
   }
  }
 ],
 "metadata": {
  "kernelspec": {
   "display_name": "Python 3",
   "language": "python",
   "name": "python3"
  },
  "language_info": {
   "codemirror_mode": {
    "name": "ipython",
    "version": 2
   },
   "file_extension": ".py",
   "mimetype": "text/x-python",
   "name": "python",
   "nbconvert_exporter": "python",
   "pygments_lexer": "ipython2",
   "version": "2.7.6"
  }
 },
 "nbformat": 4,
 "nbformat_minor": 0
}
